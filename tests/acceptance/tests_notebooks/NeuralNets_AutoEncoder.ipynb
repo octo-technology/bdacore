{
 "cells": [
  {
   "cell_type": "markdown",
   "metadata": {},
   "source": [
    "# Architectures classiques d'Autoencoders\n",
    "## Débruitage et classification automatique d'images + génération de données\n",
    "disclaimer: exemples récupérés du tutoriel officiel Keras\n",
    "https://blog.keras.io/building-autoencoders-in-keras.html\n",
    "\n",
    "Article de review principalement utilisé: <br\\>\n",
    "Charte and al. A practical tutorial on autoencoders for nonlinear feature fusion: Taxonomy, models, software and guidelines, Information Fusion journal, 2018 \n",
    "\n",
    "lien arxiv pour dl: https://arxiv.org/abs/1801.01586"
   ]
  },
  {
   "cell_type": "code",
   "execution_count": 1,
   "metadata": {},
   "outputs": [
    {
     "name": "stdout",
     "output_type": "stream",
     "text": [
      "Populating the interactive namespace from numpy and matplotlib\n"
     ]
    }
   ],
   "source": [
    "%pylab inline\n",
    "\n",
    "pylab.rcParams['figure.figsize'] = (15.0, 10.0)\n",
    "pylab.rcParams['figure.dpi'] = 150"
   ]
  },
  {
   "cell_type": "code",
   "execution_count": 2,
   "metadata": {
    "collapsed": true
   },
   "outputs": [],
   "source": [
    "import pandas as pd\n",
    "pd.set_option(\"display.max_columns\", None)\n",
    "pd.set_option(\"display.max_rows\", None)"
   ]
  },
  {
   "cell_type": "code",
   "execution_count": 3,
   "metadata": {},
   "outputs": [
    {
     "name": "stderr",
     "output_type": "stream",
     "text": [
      "Using TensorFlow backend.\n"
     ]
    }
   ],
   "source": [
    "import numpy as np\n",
    "from IPython.display import SVG\n",
    "from keras.utils.vis_utils import model_to_dot"
   ]
  },
  {
   "cell_type": "markdown",
   "metadata": {},
   "source": [
    "## Chargement de la donnée"
   ]
  },
  {
   "cell_type": "code",
   "execution_count": 4,
   "metadata": {
    "collapsed": true
   },
   "outputs": [],
   "source": [
    "from keras.datasets import mnist"
   ]
  },
  {
   "cell_type": "markdown",
   "metadata": {},
   "source": [
    "On récupère le fameux dataset MNIST de chiffres manuscrits."
   ]
  },
  {
   "cell_type": "code",
   "execution_count": 5,
   "metadata": {
    "collapsed": true
   },
   "outputs": [],
   "source": [
    "(x_train, _), (x_test, _) = mnist.load_data()"
   ]
  },
  {
   "cell_type": "markdown",
   "metadata": {},
   "source": [
    "Exemple d'image qui se trouve dans le dataset:"
   ]
  },
  {
   "cell_type": "code",
   "execution_count": 6,
   "metadata": {},
   "outputs": [
    {
     "data": {
      "text/plain": [
       "<matplotlib.image.AxesImage at 0xb2b031c50>"
      ]
     },
     "execution_count": 6,
     "metadata": {},
     "output_type": "execute_result"
    },
    {
     "data": {
      "image/png": "[encoded data removed]",
      "text/plain": [
       "<Figure size 72x72 with 1 Axes>"
      ]
     },
     "metadata": {
      "needs_background": "light"
     },
     "output_type": "display_data"
    }
   ],
   "source": [
    "plt.figure(figsize=(1, 1))\n",
    "plt.imshow(x_train[0])"
   ]
  },
  {
   "cell_type": "markdown",
   "metadata": {},
   "source": [
    "On normalise le tout."
   ]
  },
  {
   "cell_type": "code",
   "execution_count": 7,
   "metadata": {
    "scrolled": true
   },
   "outputs": [
    {
     "name": "stdout",
     "output_type": "stream",
     "text": [
      "(60000, 784)\n",
      "(10000, 784)\n"
     ]
    }
   ],
   "source": [
    "x_train = x_train.astype('float32') / 255.\n",
    "x_test = x_test.astype('float32') / 255.\n",
    "x_train = x_train.reshape((len(x_train), np.prod(x_train.shape[1:])))\n",
    "x_test = x_test.reshape((len(x_test), np.prod(x_test.shape[1:])))\n",
    "print(x_train.shape)\n",
    "print(x_test.shape)"
   ]
  },
  {
   "cell_type": "code",
   "execution_count": 8,
   "metadata": {
    "collapsed": true
   },
   "outputs": [],
   "source": [
    "x_train = x_train[:100, :]\n",
    "x_test = x_test[:10, :]"
   ]
  },
  {
   "cell_type": "markdown",
   "metadata": {},
   "source": [
    "## Construction des AutoEncoders"
   ]
  },
  {
   "cell_type": "code",
   "execution_count": 9,
   "metadata": {},
   "outputs": [],
   "source": [
    "from bdacore.neural_networks.keras_factory import SimpleAutoEncoderFactory, DeepAutoEncoderFactory, \\\n",
    "AutoEncoderClassifier, CNNDenoisingAutoEncoder2DFactory, VariationalAutoEncoderFactory"
   ]
  },
  {
   "cell_type": "markdown",
   "metadata": {},
   "source": [
    "Dans BDAcore, la classe KerasFactory renvoie habituellement un seul modèle de réseaux de neurones, qu'on passe ensuite en argument d'un wrapper Keras Scikit. Dans le cas des AutoEncoders, on peut avoir besoin d'avoir accès à la couche \"centrale\", de manière à capturer la représentation \"compressée\" de la donnée. Pour cela, toutes les factories d'AutoEncoders de BDAcore renvoie le modèle global avec au moins l'encodeur, voire le décodeur dans certains cas."
   ]
  },
  {
   "cell_type": "markdown",
   "metadata": {},
   "source": [
    "![autoencoder](https://upload.wikimedia.org/wikipedia/commons/2/28/Autoencoder_structure.png)"
   ]
  },
  {
   "cell_type": "markdown",
   "metadata": {},
   "source": [
    "Pour rester \"skitlearn compliant\", Keras possède un wrapper scikit. Pour rester compatible avec le contrat scikit, étant donné qu'on a besoin d'au moins 2 modèles en même temps (autoencoder + encoder), une classe AutoEncoderClassifier a été créée de manière à avoir un wrapper \"skitlearn compliant\" encapsulant les 2 modèles."
   ]
  },
  {
   "cell_type": "code",
   "execution_count": 10,
   "metadata": {
    "collapsed": true
   },
   "outputs": [],
   "source": [
    "# petite fonction basée sur le code du tuto pour l'affichage\n",
    "def plot_images(x_test, decoded_imgs, x_test_reshape_size=(28,28) , decoded_imgs_reshape_size=(28,28), n=10):\n",
    "    plt.figure(figsize=(20, 4))\n",
    "    for i in range(n):\n",
    "\n",
    "        ax = plt.subplot(2, n, i + 1)\n",
    "        plt.imshow(x_test[i].reshape(x_test_reshape_size))\n",
    "        plt.gray()\n",
    "        ax.get_xaxis().set_visible(False)\n",
    "        ax.get_yaxis().set_visible(False)\n",
    "\n",
    "        ax = plt.subplot(2, n, i + 1 + n)\n",
    "        plt.imshow(decoded_imgs[i].reshape(decoded_imgs_reshape_size))\n",
    "        plt.gray()\n",
    "        ax.get_xaxis().set_visible(False)\n",
    "        ax.get_yaxis().set_visible(False)\n",
    "    plt.show()"
   ]
  },
  {
   "cell_type": "markdown",
   "metadata": {},
   "source": [
    "La taille de la donnée d'entrée correspond à une image à plat (28 x 28 = 784)."
   ]
  },
  {
   "cell_type": "code",
   "execution_count": 11,
   "metadata": {},
   "outputs": [
    {
     "data": {
      "text/plain": [
       "784"
      ]
     },
     "execution_count": 11,
     "metadata": {},
     "output_type": "execute_result"
    }
   ],
   "source": [
    "image_size = x_train.shape[1]\n",
    "image_size"
   ]
  },
  {
   "cell_type": "markdown",
   "metadata": {},
   "source": [
    "### Simple AutoEncoder"
   ]
  },
  {
   "cell_type": "code",
   "execution_count": 12,
   "metadata": {
    "collapsed": true
   },
   "outputs": [],
   "source": [
    "ae_factory = SimpleAutoEncoderFactory()\n",
    "autoencoder, encoder, _ = ae_factory.create_model(encoding_dim=32, input_size=image_size)\n",
    "clf_keras = AutoEncoderClassifier(autoencoder, encoder)"
   ]
  },
  {
   "cell_type": "markdown",
   "metadata": {},
   "source": [
    "Architecture en 3 couches classique d'un autoencoder. "
   ]
  },
  {
   "cell_type": "code",
   "execution_count": 15,
   "metadata": {
    "scrolled": true
   },
   "outputs": [
    {
     "name": "stdout",
     "output_type": "stream",
     "text": [
      "Train on 100 samples, validate on 10 samples\n",
      "Epoch 1/50\n",
      "100/100 [==============================] - 0s 3ms/step - loss: 0.6951 - val_loss: 0.6937\n",
      "Epoch 2/50\n",
      "100/100 [==============================] - 0s 53us/step - loss: 0.6943 - val_loss: 0.6930\n",
      "Epoch 3/50\n",
      "100/100 [==============================] - 0s 55us/step - loss: 0.6935 - val_loss: 0.6923\n",
      "Epoch 4/50\n",
      "100/100 [==============================] - 0s 109us/step - loss: 0.6927 - val_loss: 0.6917\n",
      "Epoch 5/50\n",
      "100/100 [==============================] - 0s 62us/step - loss: 0.6920 - val_loss: 0.6910\n",
      "Epoch 6/50\n",
      "100/100 [==============================] - 0s 58us/step - loss: 0.6912 - val_loss: 0.6904\n",
      "Epoch 7/50\n",
      "100/100 [==============================] - 0s 112us/step - loss: 0.6905 - val_loss: 0.6897\n",
      "Epoch 8/50\n",
      "100/100 [==============================] - 0s 68us/step - loss: 0.6898 - val_loss: 0.6891\n",
      "Epoch 9/50\n",
      "100/100 [==============================] - 0s 101us/step - loss: 0.6890 - val_loss: 0.6884\n",
      "Epoch 10/50\n",
      "100/100 [==============================] - 0s 71us/step - loss: 0.6883 - val_loss: 0.6876\n",
      "Epoch 11/50\n",
      "100/100 [==============================] - 0s 56us/step - loss: 0.6874 - val_loss: 0.6868\n",
      "Epoch 12/50\n",
      "100/100 [==============================] - 0s 58us/step - loss: 0.6865 - val_loss: 0.6860\n",
      "Epoch 13/50\n",
      "100/100 [==============================] - 0s 98us/step - loss: 0.6856 - val_loss: 0.6850\n",
      "Epoch 14/50\n",
      "100/100 [==============================] - 0s 74us/step - loss: 0.6845 - val_loss: 0.6840\n",
      "Epoch 15/50\n",
      "100/100 [==============================] - 0s 59us/step - loss: 0.6834 - val_loss: 0.6829\n",
      "Epoch 16/50\n",
      "100/100 [==============================] - 0s 53us/step - loss: 0.6821 - val_loss: 0.6816\n",
      "Epoch 17/50\n",
      "100/100 [==============================] - 0s 56us/step - loss: 0.6807 - val_loss: 0.6803\n",
      "Epoch 18/50\n",
      "100/100 [==============================] - 0s 62us/step - loss: 0.6791 - val_loss: 0.6788\n",
      "Epoch 19/50\n",
      "100/100 [==============================] - 0s 64us/step - loss: 0.6774 - val_loss: 0.6771\n",
      "Epoch 20/50\n",
      "100/100 [==============================] - 0s 58us/step - loss: 0.6754 - val_loss: 0.6752\n",
      "Epoch 21/50\n",
      "100/100 [==============================] - 0s 62us/step - loss: 0.6733 - val_loss: 0.6731\n",
      "Epoch 22/50\n",
      "100/100 [==============================] - 0s 55us/step - loss: 0.6708 - val_loss: 0.6707\n",
      "Epoch 23/50\n",
      "100/100 [==============================] - 0s 59us/step - loss: 0.6681 - val_loss: 0.6681\n",
      "Epoch 24/50\n",
      "100/100 [==============================] - 0s 67us/step - loss: 0.6651 - val_loss: 0.6651\n",
      "Epoch 25/50\n",
      "100/100 [==============================] - 0s 66us/step - loss: 0.6617 - val_loss: 0.6618\n",
      "Epoch 26/50\n",
      "100/100 [==============================] - 0s 67us/step - loss: 0.6580 - val_loss: 0.6582\n",
      "Epoch 27/50\n",
      "100/100 [==============================] - 0s 57us/step - loss: 0.6538 - val_loss: 0.6541\n",
      "Epoch 28/50\n",
      "100/100 [==============================] - 0s 60us/step - loss: 0.6492 - val_loss: 0.6496\n",
      "Epoch 29/50\n",
      "100/100 [==============================] - 0s 64us/step - loss: 0.6441 - val_loss: 0.6447\n",
      "Epoch 30/50\n",
      "100/100 [==============================] - 0s 63us/step - loss: 0.6386 - val_loss: 0.6392\n",
      "Epoch 31/50\n",
      "100/100 [==============================] - 0s 51us/step - loss: 0.6324 - val_loss: 0.6333\n",
      "Epoch 32/50\n",
      "100/100 [==============================] - 0s 59us/step - loss: 0.6257 - val_loss: 0.6268\n",
      "Epoch 33/50\n",
      "100/100 [==============================] - 0s 53us/step - loss: 0.6184 - val_loss: 0.6198\n",
      "Epoch 34/50\n",
      "100/100 [==============================] - 0s 64us/step - loss: 0.6105 - val_loss: 0.6122\n",
      "Epoch 35/50\n",
      "100/100 [==============================] - 0s 53us/step - loss: 0.6019 - val_loss: 0.6041\n",
      "Epoch 36/50\n",
      "100/100 [==============================] - 0s 58us/step - loss: 0.5928 - val_loss: 0.5954\n",
      "Epoch 37/50\n",
      "100/100 [==============================] - 0s 54us/step - loss: 0.5831 - val_loss: 0.5861\n",
      "Epoch 38/50\n",
      "100/100 [==============================] - 0s 54us/step - loss: 0.5728 - val_loss: 0.5764\n",
      "Epoch 39/50\n",
      "100/100 [==============================] - 0s 61us/step - loss: 0.5619 - val_loss: 0.5661\n",
      "Epoch 40/50\n",
      "100/100 [==============================] - 0s 51us/step - loss: 0.5506 - val_loss: 0.5555\n",
      "Epoch 41/50\n",
      "100/100 [==============================] - 0s 64us/step - loss: 0.5389 - val_loss: 0.5445\n",
      "Epoch 42/50\n",
      "100/100 [==============================] - 0s 59us/step - loss: 0.5268 - val_loss: 0.5332\n",
      "Epoch 43/50\n",
      "100/100 [==============================] - 0s 68us/step - loss: 0.5144 - val_loss: 0.5218\n",
      "Epoch 44/50\n",
      "100/100 [==============================] - 0s 61us/step - loss: 0.5019 - val_loss: 0.5102\n",
      "Epoch 45/50\n",
      "100/100 [==============================] - 0s 62us/step - loss: 0.4893 - val_loss: 0.4986\n",
      "Epoch 46/50\n",
      "100/100 [==============================] - 0s 54us/step - loss: 0.4768 - val_loss: 0.4870\n",
      "Epoch 47/50\n",
      "100/100 [==============================] - 0s 64us/step - loss: 0.4644 - val_loss: 0.4757\n",
      "Epoch 48/50\n",
      "100/100 [==============================] - 0s 51us/step - loss: 0.4522 - val_loss: 0.4645\n",
      "Epoch 49/50\n",
      "100/100 [==============================] - 0s 54us/step - loss: 0.4404 - val_loss: 0.4537\n",
      "Epoch 50/50\n",
      "100/100 [==============================] - 0s 52us/step - loss: 0.4290 - val_loss: 0.4432\n"
     ]
    },
    {
     "data": {
      "text/plain": [
       "<keras.callbacks.History at 0xd36761810>"
      ]
     },
     "execution_count": 15,
     "metadata": {},
     "output_type": "execute_result"
    }
   ],
   "source": [
    "clf_keras.fit(x_train, x_train,\n",
    "                        epochs=50,\n",
    "                        batch_size=256,\n",
    "                        shuffle=True,\n",
    "                        validation_data=(x_test, x_test))"
   ]
  },
  {
   "cell_type": "markdown",
   "metadata": {},
   "source": [
    "Les deux valeurs de loss tournent autour de 0.102, 0.104 (pour info, c'est de la binary crossentropy)."
   ]
  },
  {
   "cell_type": "code",
   "execution_count": 16,
   "metadata": {
    "collapsed": true
   },
   "outputs": [],
   "source": [
    "decoded_imgs = clf_keras.predict(x_test)"
   ]
  },
  {
   "cell_type": "code",
   "execution_count": 17,
   "metadata": {},
   "outputs": [
    {
     "data": {
      "image/png": "[encoded data removed]",
      "text/plain": [
       "<Figure size 1440x288 with 2 Axes>"
      ]
     },
     "metadata": {
      "needs_background": "light"
     },
     "output_type": "display_data"
    }
   ],
   "source": [
    "plot_images(x_test, decoded_imgs, n=1)"
   ]
  },
  {
   "cell_type": "markdown",
   "metadata": {},
   "source": [
    "On obtient ici une représention reconstruite du jeu de test, où l'autoencoder simple (3 couches) s'est contenté d'essayer de reconstruire l'image d'origine avec comme contrainte la couche du milieu qui compresse l'ensemble de la donnée. On peut l'utiliser pour du débruitage ou de la détection d'outliers (ce qui n'est pas ressorti de l'autre côté est soit considéré comme du bruit, soit comme une anomalie au choix), même si la partie débruitage n'est pas forcément extraordinaire dans ce cas précis, vu la simplicité de l'architecture de l'AE."
   ]
  },
  {
   "cell_type": "code",
   "execution_count": 18,
   "metadata": {},
   "outputs": [
    {
     "data": {
      "image/png": "[encoded data removed]",
      "text/plain": [
       "<Figure size 1440x288 with 2 Axes>"
      ]
     },
     "metadata": {
      "needs_background": "light"
     },
     "output_type": "display_data"
    }
   ],
   "source": [
    "plot_images(x_test, clf_keras.encoded_data_, decoded_imgs_reshape_size=(8,4), n=1)"
   ]
  },
  {
   "cell_type": "markdown",
   "metadata": {},
   "source": [
    "Il sera intéressant de jeter un oeil à la partie compressée de l'image (couche du milieu) car celle-ci équivaut à effectuer une réduction de dimensions. Dans le cas d'un AE simple, cela revient à effectuer une PCA. Cela fera l'objet d'une application spécifique avec un autre type d'autoencoders qui permet des réductions de dimensions non-linéaires."
   ]
  },
  {
   "cell_type": "markdown",
   "metadata": {},
   "source": [
    "### Deep AutoEncoder"
   ]
  },
  {
   "cell_type": "code",
   "execution_count": 19,
   "metadata": {
    "collapsed": true
   },
   "outputs": [],
   "source": [
    "ae_factory = DeepAutoEncoderFactory()\n",
    "autoencoder, encoder = ae_factory.create_model(input_size=image_size, start_layer_size=256, sub_layers_level=4)\n",
    "clf_keras = AutoEncoderClassifier(autoencoder, encoder)"
   ]
  },
  {
   "cell_type": "markdown",
   "metadata": {},
   "source": [
    "Architecture en sablier, où l'on donne la taille de départ, et le nombre de sous-couches intermédiaires (taille divisée par 2 à chaque fois)."
   ]
  },
  {
   "cell_type": "code",
   "execution_count": null,
   "metadata": {},
   "outputs": [],
   "source": [
    "clf_keras.fit(x_train, x_train,\n",
    "                        epochs=50,\n",
    "                        batch_size=256,\n",
    "                        shuffle=True,\n",
    "                        validation_data=(x_test, x_test))"
   ]
  },
  {
   "cell_type": "code",
   "execution_count": null,
   "metadata": {
    "collapsed": true
   },
   "outputs": [],
   "source": [
    "decoded_imgs = clf_keras.predict(x_test)"
   ]
  },
  {
   "cell_type": "code",
   "execution_count": null,
   "metadata": {
    "scrolled": true
   },
   "outputs": [],
   "source": [
    "plot_images(x_test, decoded_imgs, n=1)"
   ]
  },
  {
   "cell_type": "markdown",
   "metadata": {},
   "source": [
    "Même si la loss est quasi identique, on a l'impression que l'AE peine à reconstruire l'image. En fonction des applications, cela peut être voulu, de sorte que plus de bruit sera filtré par exemple. Dans le cas des chiffres manuscrits, le delta entre la sortie et l'entrée pourrait servir à estimer la lisibilité du caractère par un humain (plus le delta est grand, moins le chiffre est lisible à l'origine)."
   ]
  },
  {
   "cell_type": "markdown",
   "metadata": {},
   "source": [
    "### CNN AutoEncoder"
   ]
  },
  {
   "cell_type": "markdown",
   "metadata": {},
   "source": [
    "Comme on repasse en 2 dimensions, on recharge les données:"
   ]
  },
  {
   "cell_type": "code",
   "execution_count": 21,
   "metadata": {
    "collapsed": true
   },
   "outputs": [],
   "source": [
    "(x_train, _), (x_test, _) = mnist.load_data()\n",
    "x_train = x_train.astype('float32') / 255.\n",
    "x_test = x_test.astype('float32') / 255.\n",
    "x_train = np.reshape(x_train, (len(x_train), 28, 28, 1))  # adapt this if using `channels_first` image data format\n",
    "x_test = np.reshape(x_test, (len(x_test), 28, 28, 1))  # adapt this if using `channels_first` image data format"
   ]
  },
  {
   "cell_type": "code",
   "execution_count": 22,
   "metadata": {
    "collapsed": true
   },
   "outputs": [],
   "source": [
    "x_train = x_train[:100, :]\n",
    "x_test = x_test[:10, :]"
   ]
  },
  {
   "cell_type": "code",
   "execution_count": 23,
   "metadata": {
    "collapsed": true
   },
   "outputs": [],
   "source": [
    "ae_factory = CNNDenoisingAutoEncoder2DFactory()\n",
    "autoencoder, encoder = ae_factory.create_model(shape=(28, 28, 1))\n",
    "clf_keras = AutoEncoderClassifier(autoencoder, encoder)"
   ]
  },
  {
   "cell_type": "markdown",
   "metadata": {},
   "source": [
    "Succession de couches de convolution et de max pooling, et même chose dans l'autre sens, avec des couches upsampling à la place des max pooling."
   ]
  },
  {
   "cell_type": "markdown",
   "metadata": {},
   "source": [
    "On créé des images bruitées, et on créé une relation entre l'image originale et sa version bruitée en prenant comme entréee l'image bruitée et en cible l'image non bruitée."
   ]
  },
  {
   "cell_type": "code",
   "execution_count": 25,
   "metadata": {
    "collapsed": true
   },
   "outputs": [],
   "source": [
    "noise_factor = 0.5\n",
    "x_train_noisy = x_train + noise_factor * np.random.normal(loc=0.0, scale=1.0, size=x_train.shape) \n",
    "x_test_noisy = x_test + noise_factor * np.random.normal(loc=0.0, scale=1.0, size=x_test.shape) \n",
    "\n",
    "x_train_noisy = np.clip(x_train_noisy, 0., 1.)\n",
    "x_test_noisy = np.clip(x_test_noisy, 0., 1.)"
   ]
  },
  {
   "cell_type": "code",
   "execution_count": 26,
   "metadata": {},
   "outputs": [
    {
     "data": {
      "image/png": "[encoded data removed]",
      "text/plain": [
       "<Figure size 1440x288 with 2 Axes>"
      ]
     },
     "metadata": {
      "needs_background": "light"
     },
     "output_type": "display_data"
    }
   ],
   "source": [
    "plot_images(x_train_noisy, x_train, n=1)"
   ]
  },
  {
   "cell_type": "markdown",
   "metadata": {},
   "source": [
    "On donne à l'autoencoder l'image bruitée en entrée avec pour cible l'image non-bruitée."
   ]
  },
  {
   "cell_type": "code",
   "execution_count": 27,
   "metadata": {
    "scrolled": true
   },
   "outputs": [
    {
     "name": "stdout",
     "output_type": "stream",
     "text": [
      "Train on 100 samples, validate on 10 samples\n",
      "Epoch 1/10\n",
      "100/100 [==============================] - 1s 8ms/step - loss: 0.7390 - val_loss: 0.6763\n",
      "Epoch 2/10\n",
      "100/100 [==============================] - 0s 2ms/step - loss: 0.6766 - val_loss: 0.6278\n",
      "Epoch 3/10\n",
      "100/100 [==============================] - 0s 2ms/step - loss: 0.6298 - val_loss: 0.5670\n",
      "Epoch 4/10\n",
      "100/100 [==============================] - 0s 2ms/step - loss: 0.5718 - val_loss: 0.4983\n",
      "Epoch 5/10\n",
      "100/100 [==============================] - 0s 2ms/step - loss: 0.5103 - val_loss: 0.4704\n",
      "Epoch 6/10\n",
      "100/100 [==============================] - 0s 2ms/step - loss: 0.4913 - val_loss: 0.4672\n",
      "Epoch 7/10\n",
      "100/100 [==============================] - 0s 2ms/step - loss: 0.4844 - val_loss: 0.4587\n",
      "Epoch 8/10\n",
      "100/100 [==============================] - 0s 2ms/step - loss: 0.4779 - val_loss: 0.4545\n",
      "Epoch 9/10\n",
      "100/100 [==============================] - 0s 2ms/step - loss: 0.4715 - val_loss: 0.4469\n",
      "Epoch 10/10\n",
      "100/100 [==============================] - 0s 2ms/step - loss: 0.4649 - val_loss: 0.4417\n"
     ]
    },
    {
     "data": {
      "text/plain": [
       "<keras.callbacks.History at 0xb2adedbd0>"
      ]
     },
     "execution_count": 27,
     "metadata": {},
     "output_type": "execute_result"
    }
   ],
   "source": [
    "clf_keras.fit(x_train_noisy, x_train,\n",
    "                epochs=10,\n",
    "                batch_size=256,\n",
    "                shuffle=True,\n",
    "                validation_data=(x_test_noisy, x_test))"
   ]
  },
  {
   "cell_type": "markdown",
   "metadata": {},
   "source": [
    "On regarde ensuite ce que cela donne si on donne à l'AE des images bruitées jamais rencontrées."
   ]
  },
  {
   "cell_type": "code",
   "execution_count": 28,
   "metadata": {
    "collapsed": true
   },
   "outputs": [],
   "source": [
    "decoded_imgs = clf_keras.predict(x_test_noisy)"
   ]
  },
  {
   "cell_type": "code",
   "execution_count": 29,
   "metadata": {},
   "outputs": [
    {
     "data": {
      "image/png": "[encoded data removed]",
      "text/plain": [
       "<Figure size 1440x288 with 2 Axes>"
      ]
     },
     "metadata": {
      "needs_background": "light"
     },
     "output_type": "display_data"
    }
   ],
   "source": [
    "plot_images(x_test_noisy, decoded_imgs, n=1)"
   ]
  },
  {
   "cell_type": "markdown",
   "metadata": {},
   "source": [
    "Les résultats sont plutôt bons dans l'ensemble et l'AE fait le job."
   ]
  },
  {
   "cell_type": "markdown",
   "metadata": {},
   "source": [
    "### Variational AutoEncoder"
   ]
  },
  {
   "cell_type": "markdown",
   "metadata": {},
   "source": [
    "On recharge les données proprement."
   ]
  },
  {
   "cell_type": "code",
   "execution_count": 30,
   "metadata": {
    "collapsed": true
   },
   "outputs": [],
   "source": [
    "(x_train, y_train), (x_test, y_test) = mnist.load_data()\n",
    "image_size = x_train.shape[1]\n",
    "original_dim = image_size * image_size\n",
    "x_train = np.reshape(x_train, [-1, original_dim])\n",
    "x_test = np.reshape(x_test, [-1, original_dim])\n",
    "x_train = x_train.astype('float32') / 255\n",
    "x_test = x_test.astype('float32') / 255"
   ]
  },
  {
   "cell_type": "code",
   "execution_count": 31,
   "metadata": {
    "collapsed": true
   },
   "outputs": [],
   "source": [
    "x_train = x_train[:100, :]\n",
    "x_test = x_test[:10, :]"
   ]
  },
  {
   "cell_type": "code",
   "execution_count": 32,
   "metadata": {
    "collapsed": true
   },
   "outputs": [],
   "source": [
    "ae_factory = VariationalAutoEncoderFactory()\n",
    "autoencoder, encoder, decoder = ae_factory.create_model(input_size=784, intermediate_dim=256, latent_dim=16, epsilon_std=1.0)\n",
    "clf_keras = AutoEncoderClassifier(autoencoder, encoder)"
   ]
  },
  {
   "cell_type": "markdown",
   "metadata": {},
   "source": [
    "Ce type d'AE utiliser une approche bayésienne variationnelle pour l'encodage. On suppose qu'il existe une variable aléatoire latente non observée $y$ qui, par un processus aléatoire, conduit aux observations $x$. Son objectif est donc d'approximer la distribution de la variable latente à partir des observations. Les AE variationnels remplacent les fonctions déterministes dans l'encodeur et le décodeur par des applications stochastiques, et calculent la fonction objectif selon les fonctions de densité des variables aléatoires de la distribution estimée (ici on utilise la loi normale).\n",
    "\n",
    "Comme ces modèles appartiennent à la catégorie des réseaux de neurones génératifs, ils permettent également de créer de nouvelles données."
   ]
  },
  {
   "cell_type": "code",
   "execution_count": 40,
   "metadata": {
    "scrolled": true
   },
   "outputs": [
    {
     "name": "stdout",
     "output_type": "stream",
     "text": [
      "Train on 100 samples, validate on 10 samples\n",
      "Epoch 1/15\n",
      "100/100 [==============================] - 0s 118us/step - loss: 295.7971 - val_loss: 294.8884\n",
      "Epoch 2/15\n",
      "100/100 [==============================] - 0s 163us/step - loss: 283.3232 - val_loss: 281.2496\n",
      "Epoch 3/15\n",
      "100/100 [==============================] - 0s 191us/step - loss: 270.3691 - val_loss: 284.6578\n",
      "Epoch 4/15\n",
      "100/100 [==============================] - 0s 101us/step - loss: 264.8552 - val_loss: 267.3797\n",
      "Epoch 5/15\n",
      "100/100 [==============================] - 0s 102us/step - loss: 256.9158 - val_loss: 258.4368\n",
      "Epoch 6/15\n",
      "100/100 [==============================] - 0s 97us/step - loss: 250.7155 - val_loss: 264.4670\n",
      "Epoch 7/15\n",
      "100/100 [==============================] - 0s 209us/step - loss: 248.0166 - val_loss: 260.5433\n",
      "Epoch 8/15\n",
      "100/100 [==============================] - 0s 214us/step - loss: 239.6353 - val_loss: 252.8483\n",
      "Epoch 9/15\n",
      "100/100 [==============================] - 0s 125us/step - loss: 238.4431 - val_loss: 237.2575\n",
      "Epoch 10/15\n",
      "100/100 [==============================] - 0s 124us/step - loss: 233.1709 - val_loss: 235.8755\n",
      "Epoch 11/15\n",
      "100/100 [==============================] - 0s 128us/step - loss: 234.0320 - val_loss: 233.0684\n",
      "Epoch 12/15\n",
      "100/100 [==============================] - 0s 138us/step - loss: 228.7633 - val_loss: 237.9156\n",
      "Epoch 13/15\n",
      "100/100 [==============================] - 0s 119us/step - loss: 226.5711 - val_loss: 231.4576\n",
      "Epoch 14/15\n",
      "100/100 [==============================] - 0s 180us/step - loss: 224.2125 - val_loss: 234.3477\n",
      "Epoch 15/15\n",
      "100/100 [==============================] - 0s 131us/step - loss: 224.2487 - val_loss: 228.7911\n"
     ]
    },
    {
     "data": {
      "text/plain": [
       "<keras.callbacks.History at 0xb2ab34290>"
      ]
     },
     "execution_count": 40,
     "metadata": {},
     "output_type": "execute_result"
    }
   ],
   "source": [
    "clf_keras.fit(x_train, None,\n",
    "                        epochs=15,\n",
    "                        batch_size=128,\n",
    "                        shuffle=True,\n",
    "                        validation_data=(x_test, None))"
   ]
  },
  {
   "cell_type": "markdown",
   "metadata": {},
   "source": [
    "#### Clustering automatique d'images"
   ]
  },
  {
   "cell_type": "markdown",
   "metadata": {},
   "source": [
    "On prend le jeu de test et on le transforme en sa représentation \"compressée\" à 16 dimensions. L'objectif est ensuite d'y appliquer un algorithme de réduction de dimension non-linéaire type manifold. Dans ce cas de figure, l'AE permet de réduire la dimension car les algorithmes type manifold ne sont pas faits pour traiter de très grandes dimensions. Ici, on passe de 784 dimensions à 16 dimensions, qu'on va réduire à 2 dimensions, ce qui permettra d'afficher et de faire du clustering classique. On pourrait réduire grâce à l'AE directement à 2 dimensions, mais les résultats sont bien moins bons."
   ]
  },
  {
   "cell_type": "code",
   "execution_count": 41,
   "metadata": {
    "collapsed": true
   },
   "outputs": [],
   "source": [
    "x_test_encoded = encoder.predict(x_test, batch_size=128)"
   ]
  },
  {
   "cell_type": "markdown",
   "metadata": {},
   "source": [
    "On obtient bien nos 10 000 images de test dans une représentation à 16 dimensions."
   ]
  },
  {
   "cell_type": "code",
   "execution_count": 42,
   "metadata": {},
   "outputs": [
    {
     "data": {
      "text/plain": [
       "(10, 16)"
      ]
     },
     "execution_count": 42,
     "metadata": {},
     "output_type": "execute_result"
    }
   ],
   "source": [
    "x_test_encoded[2].shape"
   ]
  },
  {
   "cell_type": "markdown",
   "metadata": {},
   "source": [
    "On construit un dataframe qu'on va utiliser avec une réduction de dimensions type manifold."
   ]
  },
  {
   "cell_type": "code",
   "execution_count": 43,
   "metadata": {
    "collapsed": true
   },
   "outputs": [],
   "source": [
    "df_test = pd.DataFrame(x_test_encoded[2])"
   ]
  },
  {
   "cell_type": "code",
   "execution_count": 44,
   "metadata": {
    "scrolled": true
   },
   "outputs": [
    {
     "data": {
      "text/html": [
       "<div>\n",
       "<style scoped>\n",
       "    .dataframe tbody tr th:only-of-type {\n",
       "        vertical-align: middle;\n",
       "    }\n",
       "\n",
       "    .dataframe tbody tr th {\n",
       "        vertical-align: top;\n",
       "    }\n",
       "\n",
       "    .dataframe thead th {\n",
       "        text-align: right;\n",
       "    }\n",
       "</style>\n",
       "<table border=\"1\" class=\"dataframe\">\n",
       "  <thead>\n",
       "    <tr style=\"text-align: right;\">\n",
       "      <th></th>\n",
       "      <th>0</th>\n",
       "      <th>1</th>\n",
       "      <th>2</th>\n",
       "      <th>3</th>\n",
       "      <th>4</th>\n",
       "      <th>5</th>\n",
       "      <th>6</th>\n",
       "      <th>7</th>\n",
       "      <th>8</th>\n",
       "      <th>9</th>\n",
       "      <th>10</th>\n",
       "      <th>11</th>\n",
       "      <th>12</th>\n",
       "      <th>13</th>\n",
       "      <th>14</th>\n",
       "      <th>15</th>\n",
       "    </tr>\n",
       "  </thead>\n",
       "  <tbody>\n",
       "    <tr>\n",
       "      <th>0</th>\n",
       "      <td>0.110014</td>\n",
       "      <td>0.924425</td>\n",
       "      <td>0.796352</td>\n",
       "      <td>1.077659</td>\n",
       "      <td>-0.116121</td>\n",
       "      <td>-2.138069</td>\n",
       "      <td>-1.360329</td>\n",
       "      <td>-0.121193</td>\n",
       "      <td>2.507831</td>\n",
       "      <td>-0.651001</td>\n",
       "      <td>-0.704277</td>\n",
       "      <td>-0.895097</td>\n",
       "      <td>-0.989126</td>\n",
       "      <td>0.700750</td>\n",
       "      <td>-1.834688</td>\n",
       "      <td>0.274764</td>\n",
       "    </tr>\n",
       "    <tr>\n",
       "      <th>1</th>\n",
       "      <td>1.798244</td>\n",
       "      <td>0.013318</td>\n",
       "      <td>1.682636</td>\n",
       "      <td>2.187859</td>\n",
       "      <td>1.281359</td>\n",
       "      <td>0.953046</td>\n",
       "      <td>-2.925138</td>\n",
       "      <td>0.958744</td>\n",
       "      <td>3.020417</td>\n",
       "      <td>0.001254</td>\n",
       "      <td>-0.109269</td>\n",
       "      <td>1.323348</td>\n",
       "      <td>-1.455718</td>\n",
       "      <td>1.670491</td>\n",
       "      <td>0.313840</td>\n",
       "      <td>-0.304688</td>\n",
       "    </tr>\n",
       "    <tr>\n",
       "      <th>2</th>\n",
       "      <td>0.574769</td>\n",
       "      <td>0.374225</td>\n",
       "      <td>1.751449</td>\n",
       "      <td>2.343125</td>\n",
       "      <td>1.460200</td>\n",
       "      <td>0.836329</td>\n",
       "      <td>-2.190854</td>\n",
       "      <td>-1.459035</td>\n",
       "      <td>2.881112</td>\n",
       "      <td>-0.485541</td>\n",
       "      <td>-2.434419</td>\n",
       "      <td>0.987045</td>\n",
       "      <td>-0.387929</td>\n",
       "      <td>3.319902</td>\n",
       "      <td>0.966981</td>\n",
       "      <td>-1.333738</td>\n",
       "    </tr>\n",
       "    <tr>\n",
       "      <th>3</th>\n",
       "      <td>1.757737</td>\n",
       "      <td>3.535808</td>\n",
       "      <td>3.175558</td>\n",
       "      <td>1.558805</td>\n",
       "      <td>1.297816</td>\n",
       "      <td>-1.376057</td>\n",
       "      <td>-2.920655</td>\n",
       "      <td>-0.007543</td>\n",
       "      <td>0.755235</td>\n",
       "      <td>-1.080010</td>\n",
       "      <td>-1.872491</td>\n",
       "      <td>0.913250</td>\n",
       "      <td>-1.335097</td>\n",
       "      <td>1.723480</td>\n",
       "      <td>-0.646683</td>\n",
       "      <td>-0.939129</td>\n",
       "    </tr>\n",
       "    <tr>\n",
       "      <th>4</th>\n",
       "      <td>0.287599</td>\n",
       "      <td>-0.068053</td>\n",
       "      <td>0.895389</td>\n",
       "      <td>1.017585</td>\n",
       "      <td>1.384775</td>\n",
       "      <td>0.819595</td>\n",
       "      <td>-1.263190</td>\n",
       "      <td>-0.622105</td>\n",
       "      <td>1.857936</td>\n",
       "      <td>0.366440</td>\n",
       "      <td>0.207119</td>\n",
       "      <td>-0.579625</td>\n",
       "      <td>-1.286241</td>\n",
       "      <td>0.771950</td>\n",
       "      <td>-0.240163</td>\n",
       "      <td>-0.245597</td>\n",
       "    </tr>\n",
       "  </tbody>\n",
       "</table>\n",
       "</div>"
      ],
      "text/plain": [
       "         0         1         2         3         4         5         6   \\\n",
       "0  0.110014  0.924425  0.796352  1.077659 -0.116121 -2.138069 -1.360329   \n",
       "1  1.798244  0.013318  1.682636  2.187859  1.281359  0.953046 -2.925138   \n",
       "2  0.574769  0.374225  1.751449  2.343125  1.460200  0.836329 -2.190854   \n",
       "3  1.757737  3.535808  3.175558  1.558805  1.297816 -1.376057 -2.920655   \n",
       "4  0.287599 -0.068053  0.895389  1.017585  1.384775  0.819595 -1.263190   \n",
       "\n",
       "         7         8         9         10        11        12        13  \\\n",
       "0 -0.121193  2.507831 -0.651001 -0.704277 -0.895097 -0.989126  0.700750   \n",
       "1  0.958744  3.020417  0.001254 -0.109269  1.323348 -1.455718  1.670491   \n",
       "2 -1.459035  2.881112 -0.485541 -2.434419  0.987045 -0.387929  3.319902   \n",
       "3 -0.007543  0.755235 -1.080010 -1.872491  0.913250 -1.335097  1.723480   \n",
       "4 -0.622105  1.857936  0.366440  0.207119 -0.579625 -1.286241  0.771950   \n",
       "\n",
       "         14        15  \n",
       "0 -1.834688  0.274764  \n",
       "1  0.313840 -0.304688  \n",
       "2  0.966981 -1.333738  \n",
       "3 -0.646683 -0.939129  \n",
       "4 -0.240163 -0.245597  "
      ]
     },
     "execution_count": 44,
     "metadata": {},
     "output_type": "execute_result"
    }
   ],
   "source": [
    "df_test.head(5)"
   ]
  },
  {
   "cell_type": "code",
   "execution_count": 45,
   "metadata": {
    "collapsed": true
   },
   "outputs": [],
   "source": [
    "from sklearn.manifold import TSNE"
   ]
  },
  {
   "cell_type": "code",
   "execution_count": 46,
   "metadata": {},
   "outputs": [
    {
     "name": "stdout",
     "output_type": "stream",
     "text": [
      "CPU times: user 105 ms, sys: 2.45 ms, total: 108 ms\n",
      "Wall time: 106 ms\n"
     ]
    }
   ],
   "source": [
    "%%time\n",
    "clf_man = TSNE()\n",
    "test_reduc = clf_man.fit_transform(df_test)"
   ]
  },
  {
   "cell_type": "markdown",
   "metadata": {},
   "source": [
    "On est en mesure d'afficher les images dans un espace à 2 dimensions, et à l'oeil, on se rend compte qu'avec un processus complétement automatique, on s'en sort plutôt bien. Même si t-SNE est à la base fait pour de la visualisation, il permet également de bien séparer les différentes images."
   ]
  },
  {
   "cell_type": "markdown",
   "metadata": {},
   "source": [
    "Pour finaliser l'approche, on applique sur cet espace à 2 dimensions un algorithme de clustering permettant de spécifier le nombre de classes (ici 10), et on mesure ensuite avec la V-Mesure le résultat."
   ]
  },
  {
   "cell_type": "code",
   "execution_count": 48,
   "metadata": {
    "collapsed": true
   },
   "outputs": [],
   "source": [
    "from sklearn.cluster import AgglomerativeClustering\n",
    "from sklearn.metrics import homogeneity_completeness_v_measure"
   ]
  },
  {
   "cell_type": "code",
   "execution_count": 49,
   "metadata": {
    "collapsed": true
   },
   "outputs": [],
   "source": [
    "clf_clust = AgglomerativeClustering(n_clusters=10)"
   ]
  },
  {
   "cell_type": "code",
   "execution_count": 50,
   "metadata": {
    "collapsed": true
   },
   "outputs": [],
   "source": [
    "clusters = clf_clust.fit_predict(test_reduc)"
   ]
  },
  {
   "cell_type": "code",
   "execution_count": 56,
   "metadata": {},
   "outputs": [
    {
     "data": {
      "text/plain": [
       "(0.9999999999999999, 0.8193820026016113, 0.9007256325828685)"
      ]
     },
     "execution_count": 56,
     "metadata": {},
     "output_type": "execute_result"
    }
   ],
   "source": [
    "homogeneity_completeness_v_measure(labels_true=y_test[:10],labels_pred=clusters)"
   ]
  },
  {
   "cell_type": "markdown",
   "metadata": {},
   "source": [
    "La V-Mesure obtient environ 84%, on arrive donc à capturer 84% de l'information (de l'entropie) de manière juste, et de manière automatique."
   ]
  },
  {
   "cell_type": "markdown",
   "metadata": {},
   "source": [
    "#### Génération d'images\n",
    "La particularité des modèles variationels d'AE est qu'ils appartiennent à la catégorie des réseaux de neurones génératifs. On peut donc s'amuser à générer des données à envoyer à la couche du milieu, demander à la partie décodeur de sortir un résultat et de voir ce que cela donne.\n",
    "\n",
    "Pour générer les données, il faut donc fournir des tableaux de dimension 16. On choisit la distribution normale pour tirer aléatoirement des valeurs puisque c'est cette dernière qui est estimée par l'AE a priori (approche bayésienne). Pour l'exemple, on génère 15 lignes de 16 valeurs."
   ]
  },
  {
   "cell_type": "code",
   "execution_count": 52,
   "metadata": {
    "collapsed": true
   },
   "outputs": [],
   "source": [
    "z_sample = np.random.normal(size=(15,16))"
   ]
  },
  {
   "cell_type": "code",
   "execution_count": 53,
   "metadata": {
    "collapsed": true
   },
   "outputs": [],
   "source": [
    "x_decoded = decoder.predict(z_sample)"
   ]
  },
  {
   "cell_type": "markdown",
   "metadata": {},
   "source": [
    "On affiche la représention compressée de taille 16 générée aléatoirement, et le résultat obtenu en-dessous par le décodeur."
   ]
  },
  {
   "cell_type": "code",
   "execution_count": 54,
   "metadata": {},
   "outputs": [
    {
     "data": {
      "image/png": "[encoded data removed]",
      "text/plain": [
       "<Figure size 1440x288 with 2 Axes>"
      ]
     },
     "metadata": {
      "needs_background": "light"
     },
     "output_type": "display_data"
    }
   ],
   "source": [
    "plot_images(z_sample, x_decoded , x_test_reshape_size=(4,4), n=1)"
   ]
  },
  {
   "cell_type": "markdown",
   "metadata": {},
   "source": [
    "Parfois les images générées ne font pas sens, mais on est tout de même en mesure de créer des images de chiffres manuscrits qui ne ressemblent à aucun de ceux présents dans le dataset d'origine."
   ]
  },
  {
   "cell_type": "markdown",
   "metadata": {
    "collapsed": true
   },
   "source": [
    "#### Debrief:\n",
    "Un gros pavé que ce tutoriel sur les autoencoders, et un grand nombre de papiers existent avec des usages assez surprenants. Dans notre quotidien, l'approche non-supervisée de classification d'image (ou autre source de données) peut être certainement utile."
   ]
  },
  {
   "cell_type": "code",
   "execution_count": null,
   "metadata": {
    "collapsed": true
   },
   "outputs": [],
   "source": []
  },
  {
   "cell_type": "code",
   "execution_count": null,
   "metadata": {
    "collapsed": true
   },
   "outputs": [],
   "source": []
  },
  {
   "cell_type": "code",
   "execution_count": null,
   "metadata": {
    "collapsed": true
   },
   "outputs": [],
   "source": []
  },
  {
   "cell_type": "code",
   "execution_count": null,
   "metadata": {
    "collapsed": true
   },
   "outputs": [],
   "source": []
  }
 ],
 "metadata": {
  "kernelspec": {
   "display_name": "bdacore",
   "language": "python",
   "name": "bdacore"
  },
  "language_info": {
   "codemirror_mode": {
    "name": "ipython",
    "version": 2
   },
   "file_extension": ".py",
   "mimetype": "text/x-python",
   "name": "python",
   "nbconvert_exporter": "python",
   "pygments_lexer": "ipython2",
   "version": "2.7.15"
  }
 },
 "nbformat": 4,
 "nbformat_minor": 2
}
