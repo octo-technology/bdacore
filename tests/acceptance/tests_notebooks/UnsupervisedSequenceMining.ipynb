{
 "cells": [
  {
   "cell_type": "markdown",
   "metadata": {},
   "source": [
    "# Sequence Mining via les chaînes de Markov et la donnée symbolique temporelle\n",
    "## Application à l'analyse de logs"
   ]
  },
  {
   "cell_type": "code",
   "execution_count": 1,
   "metadata": {},
   "outputs": [
    {
     "name": "stdout",
     "output_type": "stream",
     "text": [
      "Populating the interactive namespace from numpy and matplotlib\n"
     ]
    }
   ],
   "source": [
    "%pylab inline\n",
    "\n",
    "pylab.rcParams['figure.figsize'] = (15.0, 10.0)\n",
    "pylab.rcParams['figure.dpi'] = 150"
   ]
  },
  {
   "cell_type": "code",
   "execution_count": 2,
   "metadata": {
    "collapsed": true
   },
   "outputs": [],
   "source": [
    "import pandas as pd\n",
    "pd.set_option(\"display.max_columns\", None)\n",
    "pd.set_option(\"display.max_rows\", None)"
   ]
  },
  {
   "cell_type": "code",
   "execution_count": 3,
   "metadata": {
    "collapsed": true
   },
   "outputs": [],
   "source": [
    "import time\n",
    "import datetime\n",
    "import numpy as np\n",
    "from scipy import stats"
   ]
  },
  {
   "cell_type": "code",
   "execution_count": 4,
   "metadata": {
    "collapsed": true
   },
   "outputs": [],
   "source": [
    "from sklearn.model_selection import cross_val_score\n",
    "from sklearn.metrics import classification_report, confusion_matrix\n",
    "from sklearn.metrics import roc_curve, auc"
   ]
  },
  {
   "cell_type": "markdown",
   "metadata": {},
   "source": [
    "## Ingestion et transformation de la donnée"
   ]
  },
  {
   "cell_type": "markdown",
   "metadata": {},
   "source": [
    "On fait un simple map entre le niveau de criticité d'un log et une valeur numérique."
   ]
  },
  {
   "cell_type": "code",
   "execution_count": 5,
   "metadata": {
    "collapsed": true
   },
   "outputs": [],
   "source": [
    "def feature_log(x):\n",
    "    \n",
    "    if \"INFO\" in x:\n",
    "        crit_val = 1\n",
    "    if \"WARN\" in x:\n",
    "        crit_val = 2\n",
    "    if \"ERROR\" in x:\n",
    "        crit_val = 3\n",
    "    if \"FATAL\" in x:\n",
    "        crit_val = 4\n",
    "    if \"OFF\" in x:\n",
    "        crit_val = 5\n",
    "    \n",
    "    return crit_val"
   ]
  },
  {
   "cell_type": "markdown",
   "metadata": {},
   "source": [
    "La fonction `read_log` est pas top mais j'avais pas envie de la recoder. Cela permet de manger un fichier de log type log4j (des packages en python existent pour le faire tout seul)."
   ]
  },
  {
   "cell_type": "code",
   "execution_count": 6,
   "metadata": {
    "collapsed": true
   },
   "outputs": [],
   "source": [
    "import zipfile\n",
    "\n",
    "def read_log(zip_file, filename):\n",
    "    archive = zipfile.ZipFile(zip_file, 'r')\n",
    "    inputfile = archive.read(filename).decode(\"utf8\").split(\"\\n\")\n",
    "    inputfile = inputfile[:-1]\n",
    "    datelist = []\n",
    "    infolist = []\n",
    "    for line in inputfile:\n",
    "        i = 0\n",
    "        str_date = ''\n",
    "        ok = False\n",
    "        if ord(line[0]) >= ord('0') and ord(line[0]) <= ord('9'):\n",
    "            ok = True\n",
    "        \n",
    "        if ok:\n",
    "            while i < len(line):     \n",
    "                c = line[i]\n",
    "                if c != ',':\n",
    "                    str_date += c\n",
    "                else:\n",
    "                    i = i+3\n",
    "                    break\n",
    "\n",
    "                i += 1\n",
    "\n",
    "            datelist.append(str_date)\n",
    "            l = len(line) - 1\n",
    "            i+=1\n",
    "            infolist.append(line[i:l])\n",
    "\n",
    "    \n",
    "    X = pd.DataFrame()\n",
    "    X['timestamp'] = datelist\n",
    "    X['infos'] = infolist\n",
    "    \n",
    "    return X"
   ]
  },
  {
   "cell_type": "markdown",
   "metadata": {},
   "source": [
    "La donnée qu'on ingère est une série de logs HDFS d'un joli cluster Hadoop. On transforme les niveaux de criticité en numérique, et on transforme les timestamps en timestamps unix."
   ]
  },
  {
   "cell_type": "code",
   "execution_count": 7,
   "metadata": {
    "scrolled": false
   },
   "outputs": [
    {
     "data": {
      "text/html": [
       "<div>\n",
       "<style scoped>\n",
       "    .dataframe tbody tr th:only-of-type {\n",
       "        vertical-align: middle;\n",
       "    }\n",
       "\n",
       "    .dataframe tbody tr th {\n",
       "        vertical-align: top;\n",
       "    }\n",
       "\n",
       "    .dataframe thead th {\n",
       "        text-align: right;\n",
       "    }\n",
       "</style>\n",
       "<table border=\"1\" class=\"dataframe\">\n",
       "  <thead>\n",
       "    <tr style=\"text-align: right;\">\n",
       "      <th></th>\n",
       "      <th>timestamp</th>\n",
       "      <th>infos</th>\n",
       "    </tr>\n",
       "  </thead>\n",
       "  <tbody>\n",
       "    <tr>\n",
       "      <th>0</th>\n",
       "      <td>2014-05-01 18:14:15</td>\n",
       "      <td>INFO org.apache.hadoop.hdfs.server.datanode.f...</td>\n",
       "    </tr>\n",
       "    <tr>\n",
       "      <th>1</th>\n",
       "      <td>2014-05-01 18:14:21</td>\n",
       "      <td>INFO org.apache.hadoop.hdfs.server.datanode.B...</td>\n",
       "    </tr>\n",
       "    <tr>\n",
       "      <th>2</th>\n",
       "      <td>2014-05-01 18:14:21</td>\n",
       "      <td>INFO org.apache.hadoop.hdfs.server.datanode.B...</td>\n",
       "    </tr>\n",
       "    <tr>\n",
       "      <th>3</th>\n",
       "      <td>2014-05-01 18:14:33</td>\n",
       "      <td>INFO org.apache.hadoop.hdfs.server.datanode.B...</td>\n",
       "    </tr>\n",
       "    <tr>\n",
       "      <th>4</th>\n",
       "      <td>2014-05-01 18:14:33</td>\n",
       "      <td>INFO org.apache.hadoop.hdfs.server.datanode.B...</td>\n",
       "    </tr>\n",
       "  </tbody>\n",
       "</table>\n",
       "</div>"
      ],
      "text/plain": [
       "             timestamp                                              infos\n",
       "0  2014-05-01 18:14:15   INFO org.apache.hadoop.hdfs.server.datanode.f...\n",
       "1  2014-05-01 18:14:21   INFO org.apache.hadoop.hdfs.server.datanode.B...\n",
       "2  2014-05-01 18:14:21   INFO org.apache.hadoop.hdfs.server.datanode.B...\n",
       "3  2014-05-01 18:14:33   INFO org.apache.hadoop.hdfs.server.datanode.B...\n",
       "4  2014-05-01 18:14:33   INFO org.apache.hadoop.hdfs.server.datanode.B..."
      ]
     },
     "execution_count": 7,
     "metadata": {},
     "output_type": "execute_result"
    }
   ],
   "source": [
    "logs = read_log('../tests_data/hdfs_logs.zip', 'hdfs_logs/hdfs_logs.out')\n",
    "logs.head(5)"
   ]
  },
  {
   "cell_type": "code",
   "execution_count": 8,
   "metadata": {
    "collapsed": true
   },
   "outputs": [],
   "source": [
    "logs['crit_level'] = logs['infos'].map(lambda x : feature_log(x))\n",
    "logs = logs[logs['crit_level'] != 0]"
   ]
  },
  {
   "cell_type": "code",
   "execution_count": 9,
   "metadata": {
    "collapsed": true
   },
   "outputs": [],
   "source": [
    "logs['u_timestamp'] = logs['timestamp'].map(lambda x : time.mktime(datetime.datetime.strptime(x, \"%Y-%m-%d %H:%M:%S\").timetuple()))"
   ]
  },
  {
   "cell_type": "code",
   "execution_count": 10,
   "metadata": {},
   "outputs": [
    {
     "data": {
      "text/html": [
       "<div>\n",
       "<style scoped>\n",
       "    .dataframe tbody tr th:only-of-type {\n",
       "        vertical-align: middle;\n",
       "    }\n",
       "\n",
       "    .dataframe tbody tr th {\n",
       "        vertical-align: top;\n",
       "    }\n",
       "\n",
       "    .dataframe thead th {\n",
       "        text-align: right;\n",
       "    }\n",
       "</style>\n",
       "<table border=\"1\" class=\"dataframe\">\n",
       "  <thead>\n",
       "    <tr style=\"text-align: right;\">\n",
       "      <th></th>\n",
       "      <th>timestamp</th>\n",
       "      <th>infos</th>\n",
       "      <th>crit_level</th>\n",
       "      <th>u_timestamp</th>\n",
       "    </tr>\n",
       "  </thead>\n",
       "  <tbody>\n",
       "    <tr>\n",
       "      <th>0</th>\n",
       "      <td>2014-05-01 18:14:15</td>\n",
       "      <td>INFO org.apache.hadoop.hdfs.server.datanode.f...</td>\n",
       "      <td>1</td>\n",
       "      <td>1.398961e+09</td>\n",
       "    </tr>\n",
       "    <tr>\n",
       "      <th>1</th>\n",
       "      <td>2014-05-01 18:14:21</td>\n",
       "      <td>INFO org.apache.hadoop.hdfs.server.datanode.B...</td>\n",
       "      <td>1</td>\n",
       "      <td>1.398961e+09</td>\n",
       "    </tr>\n",
       "    <tr>\n",
       "      <th>2</th>\n",
       "      <td>2014-05-01 18:14:21</td>\n",
       "      <td>INFO org.apache.hadoop.hdfs.server.datanode.B...</td>\n",
       "      <td>1</td>\n",
       "      <td>1.398961e+09</td>\n",
       "    </tr>\n",
       "    <tr>\n",
       "      <th>3</th>\n",
       "      <td>2014-05-01 18:14:33</td>\n",
       "      <td>INFO org.apache.hadoop.hdfs.server.datanode.B...</td>\n",
       "      <td>1</td>\n",
       "      <td>1.398961e+09</td>\n",
       "    </tr>\n",
       "    <tr>\n",
       "      <th>4</th>\n",
       "      <td>2014-05-01 18:14:33</td>\n",
       "      <td>INFO org.apache.hadoop.hdfs.server.datanode.B...</td>\n",
       "      <td>1</td>\n",
       "      <td>1.398961e+09</td>\n",
       "    </tr>\n",
       "  </tbody>\n",
       "</table>\n",
       "</div>"
      ],
      "text/plain": [
       "             timestamp                                              infos  \\\n",
       "0  2014-05-01 18:14:15   INFO org.apache.hadoop.hdfs.server.datanode.f...   \n",
       "1  2014-05-01 18:14:21   INFO org.apache.hadoop.hdfs.server.datanode.B...   \n",
       "2  2014-05-01 18:14:21   INFO org.apache.hadoop.hdfs.server.datanode.B...   \n",
       "3  2014-05-01 18:14:33   INFO org.apache.hadoop.hdfs.server.datanode.B...   \n",
       "4  2014-05-01 18:14:33   INFO org.apache.hadoop.hdfs.server.datanode.B...   \n",
       "\n",
       "   crit_level   u_timestamp  \n",
       "0           1  1.398961e+09  \n",
       "1           1  1.398961e+09  \n",
       "2           1  1.398961e+09  \n",
       "3           1  1.398961e+09  \n",
       "4           1  1.398961e+09  "
      ]
     },
     "execution_count": 10,
     "metadata": {},
     "output_type": "execute_result"
    }
   ],
   "source": [
    "logs.head(5)"
   ]
  },
  {
   "cell_type": "code",
   "execution_count": 11,
   "metadata": {},
   "outputs": [
    {
     "data": {
      "text/plain": [
       "500"
      ]
     },
     "execution_count": 11,
     "metadata": {},
     "output_type": "execute_result"
    }
   ],
   "source": [
    "len(logs)"
   ]
  },
  {
   "cell_type": "markdown",
   "metadata": {},
   "source": [
    "Plusieurs events peuvent avoir lieu sur le même timestamp, on les aggrège."
   ]
  },
  {
   "cell_type": "code",
   "execution_count": 12,
   "metadata": {
    "collapsed": true
   },
   "outputs": [],
   "source": [
    "logs_agg = logs.groupby('u_timestamp')[['crit_level']].mean().round()\n",
    "logs_agg = logs_agg.reset_index()"
   ]
  },
  {
   "cell_type": "markdown",
   "metadata": {},
   "source": [
    "On vient au passage de réduire la volumétrie :)"
   ]
  },
  {
   "cell_type": "code",
   "execution_count": 13,
   "metadata": {},
   "outputs": [
    {
     "data": {
      "text/plain": [
       "189"
      ]
     },
     "execution_count": 13,
     "metadata": {},
     "output_type": "execute_result"
    }
   ],
   "source": [
    "len(logs_agg)"
   ]
  },
  {
   "cell_type": "code",
   "execution_count": 14,
   "metadata": {},
   "outputs": [
    {
     "data": {
      "text/html": [
       "<div>\n",
       "<style scoped>\n",
       "    .dataframe tbody tr th:only-of-type {\n",
       "        vertical-align: middle;\n",
       "    }\n",
       "\n",
       "    .dataframe tbody tr th {\n",
       "        vertical-align: top;\n",
       "    }\n",
       "\n",
       "    .dataframe thead th {\n",
       "        text-align: right;\n",
       "    }\n",
       "</style>\n",
       "<table border=\"1\" class=\"dataframe\">\n",
       "  <thead>\n",
       "    <tr style=\"text-align: right;\">\n",
       "      <th></th>\n",
       "      <th>u_timestamp</th>\n",
       "      <th>crit_level</th>\n",
       "    </tr>\n",
       "  </thead>\n",
       "  <tbody>\n",
       "    <tr>\n",
       "      <th>0</th>\n",
       "      <td>1.398961e+09</td>\n",
       "      <td>1</td>\n",
       "    </tr>\n",
       "    <tr>\n",
       "      <th>1</th>\n",
       "      <td>1.398961e+09</td>\n",
       "      <td>1</td>\n",
       "    </tr>\n",
       "    <tr>\n",
       "      <th>2</th>\n",
       "      <td>1.398961e+09</td>\n",
       "      <td>1</td>\n",
       "    </tr>\n",
       "    <tr>\n",
       "      <th>3</th>\n",
       "      <td>1.398961e+09</td>\n",
       "      <td>1</td>\n",
       "    </tr>\n",
       "    <tr>\n",
       "      <th>4</th>\n",
       "      <td>1.398961e+09</td>\n",
       "      <td>1</td>\n",
       "    </tr>\n",
       "  </tbody>\n",
       "</table>\n",
       "</div>"
      ],
      "text/plain": [
       "    u_timestamp  crit_level\n",
       "0  1.398961e+09           1\n",
       "1  1.398961e+09           1\n",
       "2  1.398961e+09           1\n",
       "3  1.398961e+09           1\n",
       "4  1.398961e+09           1"
      ]
     },
     "execution_count": 14,
     "metadata": {},
     "output_type": "execute_result"
    }
   ],
   "source": [
    "logs_agg.head(5)"
   ]
  },
  {
   "cell_type": "markdown",
   "metadata": {},
   "source": [
    "On considère arbitrairement une anomalie comme une criticité de 3 ou plus."
   ]
  },
  {
   "cell_type": "code",
   "execution_count": 15,
   "metadata": {
    "collapsed": true
   },
   "outputs": [],
   "source": [
    "logs_agg['anomaly'] = logs_agg['crit_level'].map(lambda x : True if x >= 3 else np.nan)"
   ]
  },
  {
   "cell_type": "code",
   "execution_count": 16,
   "metadata": {},
   "outputs": [
    {
     "data": {
      "text/plain": [
       "Series([], Name: anomaly, dtype: int64)"
      ]
     },
     "execution_count": 16,
     "metadata": {},
     "output_type": "execute_result"
    }
   ],
   "source": [
    "logs_agg['anomaly'].value_counts()"
   ]
  },
  {
   "cell_type": "markdown",
   "metadata": {},
   "source": [
    "On fait un peu de padding arrière sur les anomalies, l'idée est que c'est gagné si on detecte une anomalie avant qu'elle arrive, dans ce cas 10 events avant."
   ]
  },
  {
   "cell_type": "code",
   "execution_count": 17,
   "metadata": {
    "collapsed": true
   },
   "outputs": [],
   "source": [
    "logs_agg['anomaly'] = logs_agg['anomaly'].fillna(method='bfill', limit=10)"
   ]
  },
  {
   "cell_type": "markdown",
   "metadata": {},
   "source": [
    "On laisse les autres lignes à `False`."
   ]
  },
  {
   "cell_type": "code",
   "execution_count": 18,
   "metadata": {
    "collapsed": true
   },
   "outputs": [],
   "source": [
    "logs_agg['anomaly'] = logs_agg['anomaly'].fillna(value=False)"
   ]
  },
  {
   "cell_type": "markdown",
   "metadata": {},
   "source": [
    "Ensuite on catégorise les anomalies et non-anomalies par un ID unique. A chaque changement de phase, on incrémente l'ID."
   ]
  },
  {
   "cell_type": "code",
   "execution_count": 19,
   "metadata": {
    "collapsed": true
   },
   "outputs": [],
   "source": [
    "logs_agg['anomaly_id']  = (logs_agg['anomaly'] != logs_agg['anomaly'].shift()).cumsum()"
   ]
  },
  {
   "cell_type": "code",
   "execution_count": 20,
   "metadata": {},
   "outputs": [
    {
     "data": {
      "text/plain": [
       "False    189\n",
       "Name: anomaly, dtype: int64"
      ]
     },
     "execution_count": 20,
     "metadata": {},
     "output_type": "execute_result"
    }
   ],
   "source": [
    "logs_agg.anomaly.value_counts()"
   ]
  },
  {
   "cell_type": "code",
   "execution_count": 21,
   "metadata": {},
   "outputs": [
    {
     "data": {
      "text/html": [
       "<div>\n",
       "<style scoped>\n",
       "    .dataframe tbody tr th:only-of-type {\n",
       "        vertical-align: middle;\n",
       "    }\n",
       "\n",
       "    .dataframe tbody tr th {\n",
       "        vertical-align: top;\n",
       "    }\n",
       "\n",
       "    .dataframe thead th {\n",
       "        text-align: right;\n",
       "    }\n",
       "</style>\n",
       "<table border=\"1\" class=\"dataframe\">\n",
       "  <thead>\n",
       "    <tr style=\"text-align: right;\">\n",
       "      <th></th>\n",
       "      <th>u_timestamp</th>\n",
       "      <th>crit_level</th>\n",
       "      <th>anomaly</th>\n",
       "      <th>anomaly_id</th>\n",
       "    </tr>\n",
       "  </thead>\n",
       "  <tbody>\n",
       "    <tr>\n",
       "      <th>0</th>\n",
       "      <td>1.398961e+09</td>\n",
       "      <td>1</td>\n",
       "      <td>False</td>\n",
       "      <td>1</td>\n",
       "    </tr>\n",
       "    <tr>\n",
       "      <th>1</th>\n",
       "      <td>1.398961e+09</td>\n",
       "      <td>1</td>\n",
       "      <td>False</td>\n",
       "      <td>1</td>\n",
       "    </tr>\n",
       "    <tr>\n",
       "      <th>2</th>\n",
       "      <td>1.398961e+09</td>\n",
       "      <td>1</td>\n",
       "      <td>False</td>\n",
       "      <td>1</td>\n",
       "    </tr>\n",
       "    <tr>\n",
       "      <th>3</th>\n",
       "      <td>1.398961e+09</td>\n",
       "      <td>1</td>\n",
       "      <td>False</td>\n",
       "      <td>1</td>\n",
       "    </tr>\n",
       "    <tr>\n",
       "      <th>4</th>\n",
       "      <td>1.398961e+09</td>\n",
       "      <td>1</td>\n",
       "      <td>False</td>\n",
       "      <td>1</td>\n",
       "    </tr>\n",
       "  </tbody>\n",
       "</table>\n",
       "</div>"
      ],
      "text/plain": [
       "    u_timestamp  crit_level  anomaly  anomaly_id\n",
       "0  1.398961e+09           1    False           1\n",
       "1  1.398961e+09           1    False           1\n",
       "2  1.398961e+09           1    False           1\n",
       "3  1.398961e+09           1    False           1\n",
       "4  1.398961e+09           1    False           1"
      ]
     },
     "execution_count": 21,
     "metadata": {},
     "output_type": "execute_result"
    }
   ],
   "source": [
    "logs_agg.head(5)"
   ]
  },
  {
   "cell_type": "markdown",
   "metadata": {},
   "source": [
    "## Analyse ML"
   ]
  },
  {
   "cell_type": "code",
   "execution_count": 22,
   "metadata": {
    "collapsed": true
   },
   "outputs": [],
   "source": [
    "from bdacore.timeseries import MetaSequenceMiner"
   ]
  },
  {
   "cell_type": "markdown",
   "metadata": {},
   "source": [
    "### Utilisation du modèle pour de la prédiction"
   ]
  },
  {
   "cell_type": "code",
   "execution_count": 23,
   "metadata": {
    "collapsed": true
   },
   "outputs": [],
   "source": [
    "x_train = logs_agg.head(int(len(logs_agg)*0.90)).copy()\n",
    "x_test = logs_agg.tail(len(logs_agg) - len(x_train)).copy()"
   ]
  },
  {
   "cell_type": "code",
   "execution_count": 24,
   "metadata": {},
   "outputs": [
    {
     "data": {
      "text/plain": [
       "19"
      ]
     },
     "execution_count": 24,
     "metadata": {},
     "output_type": "execute_result"
    }
   ],
   "source": [
    "len(x_test)"
   ]
  },
  {
   "cell_type": "code",
   "execution_count": 25,
   "metadata": {},
   "outputs": [
    {
     "name": "stderr",
     "output_type": "stream",
     "text": [
      "/usr/local/miniconda3/envs/bdacore/lib/python2.7/site-packages/ipykernel_launcher.py:2: FutureWarning: Method .as_matrix will be removed in a future version. Use .values instead.\n",
      "  \n"
     ]
    },
    {
     "data": {
      "text/plain": [
       "MetaSequenceMiner(bins=40)"
      ]
     },
     "execution_count": 25,
     "metadata": {},
     "output_type": "execute_result"
    }
   ],
   "source": [
    "metaseqminer = MetaSequenceMiner(bins=40)\n",
    "metaseqminer.fit(x_train[['crit_level', 'u_timestamp']].as_matrix())"
   ]
  },
  {
   "cell_type": "code",
   "execution_count": 26,
   "metadata": {},
   "outputs": [
    {
     "name": "stdout",
     "output_type": "stream",
     "text": [
      "CPU times: user 11.1 ms, sys: 3.64 ms, total: 14.7 ms\n",
      "Wall time: 12 ms\n"
     ]
    },
    {
     "name": "stderr",
     "output_type": "stream",
     "text": [
      "/usr/local/miniconda3/envs/bdacore/lib/python2.7/site-packages/ipykernel_launcher.py:1: FutureWarning: Method .as_matrix will be removed in a future version. Use .values instead.\n",
      "  \"\"\"Entry point for launching an IPython kernel.\n"
     ]
    }
   ],
   "source": [
    "%%time\n",
    "logs_anomalies = metaseqminer.predict_proba(x_test[['crit_level', 'u_timestamp']].as_matrix(), operation=np.max)"
   ]
  },
  {
   "cell_type": "markdown",
   "metadata": {},
   "source": [
    "*Remarque:* l'opérateur max est tout à fait criticable. Dans ce cas, comme le MetaSequenceMiner est composé d'une partie markovienne (MarkovSequenceMiner) et d'une partie temporelle (TimeDurationSequenceMiner), on garde la probabilité d'occurence la plus haute (on fait confiance au modèle qui sort le plus haut taux de confiance, par exemple si l'un des 2 modèles sort 0.9 et l'autre 0.6, on a plutôt tendance à dire que le prochain event a une forte proba d'arriver)."
   ]
  },
  {
   "cell_type": "markdown",
   "metadata": {},
   "source": [
    "De base, les modèles sortent des probas d'occurences, donc pour avoir une anomalie, il faut une forte proba de non-occurence (d'où le 1-p)."
   ]
  },
  {
   "cell_type": "code",
   "execution_count": 27,
   "metadata": {
    "collapsed": true
   },
   "outputs": [],
   "source": [
    "x_test['predicted_anomalies'] = 1 - logs_anomalies"
   ]
  },
  {
   "cell_type": "markdown",
   "metadata": {},
   "source": [
    "On sort les scores intermédiaires pour l'explication."
   ]
  },
  {
   "cell_type": "code",
   "execution_count": 28,
   "metadata": {
    "collapsed": true
   },
   "outputs": [],
   "source": [
    "x_test['predicted_anomalies_markov'] = 1 - metaseqminer.markovseqminer.chained_p_\n",
    "x_test['predicted_anomalies_time'] = 1 - metaseqminer.timeseqminer.time_p_"
   ]
  },
  {
   "cell_type": "code",
   "execution_count": 29,
   "metadata": {},
   "outputs": [
    {
     "data": {
      "text/html": [
       "<div>\n",
       "<style scoped>\n",
       "    .dataframe tbody tr th:only-of-type {\n",
       "        vertical-align: middle;\n",
       "    }\n",
       "\n",
       "    .dataframe tbody tr th {\n",
       "        vertical-align: top;\n",
       "    }\n",
       "\n",
       "    .dataframe thead th {\n",
       "        text-align: right;\n",
       "    }\n",
       "</style>\n",
       "<table border=\"1\" class=\"dataframe\">\n",
       "  <thead>\n",
       "    <tr style=\"text-align: right;\">\n",
       "      <th></th>\n",
       "      <th>u_timestamp</th>\n",
       "      <th>crit_level</th>\n",
       "      <th>anomaly</th>\n",
       "      <th>anomaly_id</th>\n",
       "      <th>predicted_anomalies</th>\n",
       "      <th>predicted_anomalies_markov</th>\n",
       "      <th>predicted_anomalies_time</th>\n",
       "    </tr>\n",
       "  </thead>\n",
       "  <tbody>\n",
       "    <tr>\n",
       "      <th>170</th>\n",
       "      <td>1.398962e+09</td>\n",
       "      <td>1</td>\n",
       "      <td>False</td>\n",
       "      <td>1</td>\n",
       "      <td>0.0</td>\n",
       "      <td>0.0</td>\n",
       "      <td>0.000000</td>\n",
       "    </tr>\n",
       "    <tr>\n",
       "      <th>171</th>\n",
       "      <td>1.398962e+09</td>\n",
       "      <td>1</td>\n",
       "      <td>False</td>\n",
       "      <td>1</td>\n",
       "      <td>0.0</td>\n",
       "      <td>0.0</td>\n",
       "      <td>0.325444</td>\n",
       "    </tr>\n",
       "    <tr>\n",
       "      <th>172</th>\n",
       "      <td>1.398962e+09</td>\n",
       "      <td>1</td>\n",
       "      <td>False</td>\n",
       "      <td>1</td>\n",
       "      <td>0.0</td>\n",
       "      <td>0.0</td>\n",
       "      <td>1.000000</td>\n",
       "    </tr>\n",
       "    <tr>\n",
       "      <th>173</th>\n",
       "      <td>1.398962e+09</td>\n",
       "      <td>1</td>\n",
       "      <td>False</td>\n",
       "      <td>1</td>\n",
       "      <td>0.0</td>\n",
       "      <td>0.0</td>\n",
       "      <td>0.325444</td>\n",
       "    </tr>\n",
       "    <tr>\n",
       "      <th>174</th>\n",
       "      <td>1.398962e+09</td>\n",
       "      <td>1</td>\n",
       "      <td>False</td>\n",
       "      <td>1</td>\n",
       "      <td>0.0</td>\n",
       "      <td>0.0</td>\n",
       "      <td>0.325444</td>\n",
       "    </tr>\n",
       "  </tbody>\n",
       "</table>\n",
       "</div>"
      ],
      "text/plain": [
       "      u_timestamp  crit_level  anomaly  anomaly_id  predicted_anomalies  \\\n",
       "170  1.398962e+09           1    False           1                  0.0   \n",
       "171  1.398962e+09           1    False           1                  0.0   \n",
       "172  1.398962e+09           1    False           1                  0.0   \n",
       "173  1.398962e+09           1    False           1                  0.0   \n",
       "174  1.398962e+09           1    False           1                  0.0   \n",
       "\n",
       "     predicted_anomalies_markov  predicted_anomalies_time  \n",
       "170                         0.0                  0.000000  \n",
       "171                         0.0                  0.325444  \n",
       "172                         0.0                  1.000000  \n",
       "173                         0.0                  0.325444  \n",
       "174                         0.0                  0.325444  "
      ]
     },
     "execution_count": 29,
     "metadata": {},
     "output_type": "execute_result"
    }
   ],
   "source": [
    "x_test.head(5)"
   ]
  },
  {
   "cell_type": "code",
   "execution_count": 30,
   "metadata": {},
   "outputs": [
    {
     "data": {
      "text/plain": [
       "[<matplotlib.lines.Line2D at 0x1a1f13eed0>]"
      ]
     },
     "execution_count": 30,
     "metadata": {},
     "output_type": "execute_result"
    },
    {
     "data": {
      "image/png": "[encoded data removed]",
      "text/plain": [
       "<Figure size 432x288 with 1 Axes>"
      ]
     },
     "metadata": {
      "needs_background": "light"
     },
     "output_type": "display_data"
    }
   ],
   "source": [
    "plt.plot(x_test.anomaly, c='r', alpha=0.8)\n",
    "plt.plot(x_test.predicted_anomalies, c='y', alpha = 0.8)"
   ]
  },
  {
   "cell_type": "markdown",
   "metadata": {},
   "source": [
    "Sans surprise, ça trouve bien les anomalies, mais ici, autant regarder les events avec une criticité de 3 ou plus, ca revient au même..."
   ]
  },
  {
   "cell_type": "markdown",
   "metadata": {},
   "source": [
    "Si on check uniquement la partie temporelle:"
   ]
  },
  {
   "cell_type": "code",
   "execution_count": 31,
   "metadata": {},
   "outputs": [
    {
     "data": {
      "text/plain": [
       "[<matplotlib.lines.Line2D at 0x1a1f24fc50>]"
      ]
     },
     "execution_count": 31,
     "metadata": {},
     "output_type": "execute_result"
    },
    {
     "data": {
      "image/png": "[encoded data removed]",
      "text/plain": [
       "<Figure size 432x288 with 1 Axes>"
      ]
     },
     "metadata": {
      "needs_background": "light"
     },
     "output_type": "display_data"
    }
   ],
   "source": [
    "plt.plot(x_test.anomaly, c='r')\n",
    "plt.plot(x_test.predicted_anomalies_time, c='y', alpha = 0.8)"
   ]
  },
  {
   "cell_type": "markdown",
   "metadata": {},
   "source": [
    "C'est plus intéressant car autour de 2 anomalies sur 3, on a un comportement temporel non-habituel, qui pourrait donc servir comme signal pour décider."
   ]
  },
  {
   "cell_type": "markdown",
   "metadata": {},
   "source": [
    "On fait comme si on mesurait pour de vrai (si vous voulez faire des tests, au moins le code existe), mais on sait déjà qu'on a bon :|"
   ]
  },
  {
   "cell_type": "code",
   "execution_count": 32,
   "metadata": {
    "collapsed": true
   },
   "outputs": [],
   "source": [
    "x_test['predicted_anomalies_TF'] = x_test['predicted_anomalies'] > 0.3"
   ]
  },
  {
   "cell_type": "code",
   "execution_count": 33,
   "metadata": {
    "collapsed": true
   },
   "outputs": [],
   "source": [
    "x_test = x_test.reset_index(drop=True)"
   ]
  },
  {
   "cell_type": "code",
   "execution_count": 34,
   "metadata": {
    "collapsed": true
   },
   "outputs": [],
   "source": [
    "y_true = x_test.groupby('anomaly_id')['anomaly'].max()\n",
    "y_test = x_test.groupby('anomaly_id')['predicted_anomalies'].max()\n",
    "y_test_bin = x_test.groupby('anomaly_id')['predicted_anomalies_TF'].max()"
   ]
  },
  {
   "cell_type": "code",
   "execution_count": 35,
   "metadata": {},
   "outputs": [
    {
     "data": {
      "text/plain": [
       "False    1\n",
       "Name: predicted_anomalies_TF, dtype: int64"
      ]
     },
     "execution_count": 35,
     "metadata": {},
     "output_type": "execute_result"
    }
   ],
   "source": [
    "y_test_bin.value_counts()"
   ]
  },
  {
   "cell_type": "code",
   "execution_count": 36,
   "metadata": {},
   "outputs": [
    {
     "data": {
      "text/plain": [
       "False    1\n",
       "Name: anomaly, dtype: int64"
      ]
     },
     "execution_count": 36,
     "metadata": {},
     "output_type": "execute_result"
    }
   ],
   "source": [
    "y_true.value_counts()"
   ]
  },
  {
   "cell_type": "code",
   "execution_count": 37,
   "metadata": {},
   "outputs": [
    {
     "data": {
      "text/html": [
       "<div>\n",
       "<style scoped>\n",
       "    .dataframe tbody tr th:only-of-type {\n",
       "        vertical-align: middle;\n",
       "    }\n",
       "\n",
       "    .dataframe tbody tr th {\n",
       "        vertical-align: top;\n",
       "    }\n",
       "\n",
       "    .dataframe thead th {\n",
       "        text-align: right;\n",
       "    }\n",
       "</style>\n",
       "<table border=\"1\" class=\"dataframe\">\n",
       "  <thead>\n",
       "    <tr style=\"text-align: right;\">\n",
       "      <th></th>\n",
       "      <th>anomaly</th>\n",
       "      <th>predicted_anomalies</th>\n",
       "      <th>predicted_anomalies_TF</th>\n",
       "    </tr>\n",
       "    <tr>\n",
       "      <th>anomaly_id</th>\n",
       "      <th></th>\n",
       "      <th></th>\n",
       "      <th></th>\n",
       "    </tr>\n",
       "  </thead>\n",
       "  <tbody>\n",
       "    <tr>\n",
       "      <th>1</th>\n",
       "      <td>0.0</td>\n",
       "      <td>0.0</td>\n",
       "      <td>0.0</td>\n",
       "    </tr>\n",
       "  </tbody>\n",
       "</table>\n",
       "</div>"
      ],
      "text/plain": [
       "            anomaly  predicted_anomalies  predicted_anomalies_TF\n",
       "anomaly_id                                                      \n",
       "1               0.0                  0.0                     0.0"
      ]
     },
     "execution_count": 37,
     "metadata": {},
     "output_type": "execute_result"
    }
   ],
   "source": [
    "pd.DataFrame([y_true, y_test, y_test_bin]).transpose()"
   ]
  },
  {
   "cell_type": "code",
   "execution_count": 38,
   "metadata": {},
   "outputs": [
    {
     "name": "stdout",
     "output_type": "stream",
     "text": [
      "              precision    recall  f1-score   support\n",
      "\n",
      "       False       1.00      1.00      1.00         1\n",
      "\n",
      "   micro avg       1.00      1.00      1.00         1\n",
      "   macro avg       1.00      1.00      1.00         1\n",
      "weighted avg       1.00      1.00      1.00         1\n",
      "\n"
     ]
    }
   ],
   "source": [
    "print(classification_report(y_true, y_test_bin))"
   ]
  },
  {
   "cell_type": "markdown",
   "metadata": {},
   "source": [
    "Rien de très glorieux puisque la quasi totalité du signal est porté par le changement d'état... que le modèle n'a pas anticipé."
   ]
  },
  {
   "cell_type": "markdown",
   "metadata": {},
   "source": [
    "### Utilisation du modèle pour de l'analyse"
   ]
  },
  {
   "cell_type": "markdown",
   "metadata": {},
   "source": [
    "Cette fois, on fit et on predict sur l'ensemble de la donnée (plutôt analyse non-supervisée)"
   ]
  },
  {
   "cell_type": "code",
   "execution_count": 39,
   "metadata": {},
   "outputs": [
    {
     "name": "stderr",
     "output_type": "stream",
     "text": [
      "/usr/local/miniconda3/envs/bdacore/lib/python2.7/site-packages/ipykernel_launcher.py:2: FutureWarning: Method .as_matrix will be removed in a future version. Use .values instead.\n",
      "  \n"
     ]
    },
    {
     "data": {
      "text/plain": [
       "MetaSequenceMiner(bins=5)"
      ]
     },
     "execution_count": 39,
     "metadata": {},
     "output_type": "execute_result"
    }
   ],
   "source": [
    "metaseqminer = MetaSequenceMiner(bins=5)\n",
    "metaseqminer.fit(logs_agg[['crit_level', 'u_timestamp']].as_matrix())"
   ]
  },
  {
   "cell_type": "code",
   "execution_count": 40,
   "metadata": {},
   "outputs": [
    {
     "name": "stdout",
     "output_type": "stream",
     "text": [
      "CPU times: user 39.8 ms, sys: 1.12 ms, total: 40.9 ms\n",
      "Wall time: 41.9 ms\n"
     ]
    },
    {
     "name": "stderr",
     "output_type": "stream",
     "text": [
      "/usr/local/miniconda3/envs/bdacore/lib/python2.7/site-packages/ipykernel_launcher.py:1: FutureWarning: Method .as_matrix will be removed in a future version. Use .values instead.\n",
      "  \"\"\"Entry point for launching an IPython kernel.\n"
     ]
    }
   ],
   "source": [
    "%%time\n",
    "logs_anomalies = metaseqminer.predict_proba(logs_agg[['crit_level', 'u_timestamp']].as_matrix(), operation=np.max)"
   ]
  },
  {
   "cell_type": "code",
   "execution_count": 41,
   "metadata": {
    "collapsed": true
   },
   "outputs": [],
   "source": [
    "logs_agg['predicted_anomalies'] = 1 - logs_anomalies"
   ]
  },
  {
   "cell_type": "code",
   "execution_count": 42,
   "metadata": {
    "collapsed": true
   },
   "outputs": [],
   "source": [
    "logs_agg['predicted_anomalies_TF'] = logs_agg['predicted_anomalies'] > 0.3"
   ]
  },
  {
   "cell_type": "code",
   "execution_count": 43,
   "metadata": {
    "collapsed": true
   },
   "outputs": [],
   "source": [
    "y_true = logs_agg.groupby('anomaly_id')['anomaly'].max()\n",
    "y_test = logs_agg.groupby('anomaly_id')['predicted_anomalies'].max()\n",
    "y_test_bin = logs_agg.groupby('anomaly_id')['predicted_anomalies_TF'].max()"
   ]
  },
  {
   "cell_type": "code",
   "execution_count": 44,
   "metadata": {
    "scrolled": true
   },
   "outputs": [
    {
     "data": {
      "text/html": [
       "<div>\n",
       "<style scoped>\n",
       "    .dataframe tbody tr th:only-of-type {\n",
       "        vertical-align: middle;\n",
       "    }\n",
       "\n",
       "    .dataframe tbody tr th {\n",
       "        vertical-align: top;\n",
       "    }\n",
       "\n",
       "    .dataframe thead th {\n",
       "        text-align: right;\n",
       "    }\n",
       "</style>\n",
       "<table border=\"1\" class=\"dataframe\">\n",
       "  <thead>\n",
       "    <tr style=\"text-align: right;\">\n",
       "      <th></th>\n",
       "      <th>anomaly</th>\n",
       "      <th>predicted_anomalies</th>\n",
       "      <th>predicted_anomalies_TF</th>\n",
       "    </tr>\n",
       "    <tr>\n",
       "      <th>anomaly_id</th>\n",
       "      <th></th>\n",
       "      <th></th>\n",
       "      <th></th>\n",
       "    </tr>\n",
       "  </thead>\n",
       "  <tbody>\n",
       "    <tr>\n",
       "      <th>1</th>\n",
       "      <td>0.0</td>\n",
       "      <td>0.0</td>\n",
       "      <td>0.0</td>\n",
       "    </tr>\n",
       "  </tbody>\n",
       "</table>\n",
       "</div>"
      ],
      "text/plain": [
       "            anomaly  predicted_anomalies  predicted_anomalies_TF\n",
       "anomaly_id                                                      \n",
       "1               0.0                  0.0                     0.0"
      ]
     },
     "execution_count": 44,
     "metadata": {},
     "output_type": "execute_result"
    }
   ],
   "source": [
    "pd.DataFrame([y_true, y_test, y_test_bin]).transpose()"
   ]
  },
  {
   "cell_type": "code",
   "execution_count": 45,
   "metadata": {},
   "outputs": [
    {
     "name": "stdout",
     "output_type": "stream",
     "text": [
      "              precision    recall  f1-score   support\n",
      "\n",
      "       False       1.00      1.00      1.00         1\n",
      "\n",
      "   micro avg       1.00      1.00      1.00         1\n",
      "   macro avg       1.00      1.00      1.00         1\n",
      "weighted avg       1.00      1.00      1.00         1\n",
      "\n"
     ]
    }
   ],
   "source": [
    "print(classification_report(y_true, y_test_bin))"
   ]
  },
  {
   "cell_type": "code",
   "execution_count": 46,
   "metadata": {},
   "outputs": [
    {
     "name": "stderr",
     "output_type": "stream",
     "text": [
      "/usr/local/miniconda3/envs/bdacore/lib/python2.7/site-packages/sklearn/metrics/ranking.py:651: UndefinedMetricWarning: No positive samples in y_true, true positive value should be meaningless\n",
      "  UndefinedMetricWarning)\n"
     ]
    }
   ],
   "source": [
    "fpr, tpr, _ = roc_curve(y_true.values, y_test.values)"
   ]
  },
  {
   "cell_type": "code",
   "execution_count": 47,
   "metadata": {},
   "outputs": [
    {
     "data": {
      "text/plain": [
       "nan"
      ]
     },
     "execution_count": 47,
     "metadata": {},
     "output_type": "execute_result"
    }
   ],
   "source": [
    "auc(fpr, tpr)"
   ]
  },
  {
   "cell_type": "code",
   "execution_count": 48,
   "metadata": {},
   "outputs": [
    {
     "data": {
      "image/png": "[encoded data removed]",
      "text/plain": [
       "<Figure size 432x288 with 1 Axes>"
      ]
     },
     "metadata": {
      "needs_background": "light"
     },
     "output_type": "display_data"
    }
   ],
   "source": [
    "plt.figure()\n",
    "lw = 1\n",
    "plt.plot(fpr, tpr, color='darkorange',lw=lw)\n",
    "plt.plot([0, 1], [0, 1], color='navy', lw=lw, linestyle='--')\n",
    "plt.xlim([0.0, 1.0])\n",
    "plt.ylim([0.0, 1.05])\n",
    "plt.xlabel('False Positive Rate')\n",
    "plt.ylabel('True Positive Rate')\n",
    "plt.title('Receiver operating characteristic (ROC)')\n",
    "plt.show()"
   ]
  },
  {
   "cell_type": "markdown",
   "metadata": {
    "collapsed": true
   },
   "source": [
    "#### Debrief:\n",
    "Cela se comporte mieux pour de l'analyse de causes que pour de la prédiction pure dans ce scénario (même si l'aspect temporel peut aider). Il faut cependant garder à l'esprit qu'utiliser ce type d'approche en mode \"supervisé\" sous-entend que le dataset d'apprentissage correspond au fonctionnement normal du système étudié, car si ce n'est pas le cas (apprentissage sur un dataset bourré d'anomalies), il apprendra l'anomalie et détectera plutôt la non-anomalie. Avec un historique suffisant, cette hypothèse est heureusement souvent vérifiée (anomalie = évènement rare)."
   ]
  },
  {
   "cell_type": "markdown",
   "metadata": {
    "collapsed": true
   },
   "source": [
    "L'aspect paramétrique peut aussi poser problème ==> quel seuil de probabilité choisir pour étiqueter la ligne comme une anomalie prédite ? (ici, on a pris la valeur 0.3 arbitrairement)."
   ]
  },
  {
   "cell_type": "code",
   "execution_count": null,
   "metadata": {
    "collapsed": true
   },
   "outputs": [],
   "source": []
  }
 ],
 "metadata": {
  "kernelspec": {
   "display_name": "bdacore",
   "language": "python",
   "name": "bdacore"
  },
  "language_info": {
   "codemirror_mode": {
    "name": "ipython",
    "version": 2
   },
   "file_extension": ".py",
   "mimetype": "text/x-python",
   "name": "python",
   "nbconvert_exporter": "python",
   "pygments_lexer": "ipython2",
   "version": "2.7.15"
  }
 },
 "nbformat": 4,
 "nbformat_minor": 2
}
